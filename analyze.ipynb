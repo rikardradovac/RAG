{
 "cells": [
  {
   "cell_type": "markdown",
   "metadata": {},
   "source": [
    "### Here we analyze the different texts on the following.\n",
    "- Sequence lengths\n",
    "- Sentence lengths\n",
    "- Character count\n",
    "- Vocalbulary size\n",
    "- Entites"
   ]
  },
  {
   "cell_type": "code",
   "execution_count": 4,
   "metadata": {},
   "outputs": [
    {
     "name": "stdout",
     "output_type": "stream",
     "text": [
      "Requirement already satisfied: matplotlib in c:\\users\\alexa\\documents\\rag\\rag\\lib\\site-packages (3.8.2)\n",
      "Requirement already satisfied: contourpy>=1.0.1 in c:\\users\\alexa\\documents\\rag\\rag\\lib\\site-packages (from matplotlib) (1.2.0)\n",
      "Requirement already satisfied: cycler>=0.10 in c:\\users\\alexa\\documents\\rag\\rag\\lib\\site-packages (from matplotlib) (0.12.1)\n",
      "Requirement already satisfied: fonttools>=4.22.0 in c:\\users\\alexa\\documents\\rag\\rag\\lib\\site-packages (from matplotlib) (4.46.0)\n",
      "Requirement already satisfied: kiwisolver>=1.3.1 in c:\\users\\alexa\\documents\\rag\\rag\\lib\\site-packages (from matplotlib) (1.4.5)\n",
      "Requirement already satisfied: numpy<2,>=1.21 in c:\\users\\alexa\\documents\\rag\\rag\\lib\\site-packages (from matplotlib) (1.26.2)\n",
      "Requirement already satisfied: packaging>=20.0 in c:\\users\\alexa\\documents\\rag\\rag\\lib\\site-packages (from matplotlib) (23.2)\n",
      "Requirement already satisfied: pillow>=8 in c:\\users\\alexa\\documents\\rag\\rag\\lib\\site-packages (from matplotlib) (10.1.0)\n",
      "Requirement already satisfied: pyparsing>=2.3.1 in c:\\users\\alexa\\documents\\rag\\rag\\lib\\site-packages (from matplotlib) (3.1.1)\n",
      "Requirement already satisfied: python-dateutil>=2.7 in c:\\users\\alexa\\documents\\rag\\rag\\lib\\site-packages (from matplotlib) (2.8.2)\n",
      "Requirement already satisfied: six>=1.5 in c:\\users\\alexa\\documents\\rag\\rag\\lib\\site-packages (from python-dateutil>=2.7->matplotlib) (1.16.0)\n",
      "Note: you may need to restart the kernel to use updated packages.\n",
      "Requirement already satisfied: nltk in c:\\users\\alexa\\documents\\rag\\rag\\lib\\site-packages (3.8.1)\n",
      "Requirement already satisfied: click in c:\\users\\alexa\\documents\\rag\\rag\\lib\\site-packages (from nltk) (8.1.7)\n",
      "Requirement already satisfied: joblib in c:\\users\\alexa\\documents\\rag\\rag\\lib\\site-packages (from nltk) (1.3.2)\n",
      "Requirement already satisfied: regex>=2021.8.3 in c:\\users\\alexa\\documents\\rag\\rag\\lib\\site-packages (from nltk) (2023.10.3)\n",
      "Requirement already satisfied: tqdm in c:\\users\\alexa\\documents\\rag\\rag\\lib\\site-packages (from nltk) (4.66.1)\n",
      "Requirement already satisfied: colorama in c:\\users\\alexa\\documents\\rag\\rag\\lib\\site-packages (from click->nltk) (0.4.6)\n",
      "Note: you may need to restart the kernel to use updated packages.\n",
      "Requirement already satisfied: spacy in c:\\users\\alexa\\documents\\rag\\rag\\lib\\site-packages (3.7.2)\n",
      "Requirement already satisfied: spacy-legacy<3.1.0,>=3.0.11 in c:\\users\\alexa\\documents\\rag\\rag\\lib\\site-packages (from spacy) (3.0.12)\n",
      "Requirement already satisfied: spacy-loggers<2.0.0,>=1.0.0 in c:\\users\\alexa\\documents\\rag\\rag\\lib\\site-packages (from spacy) (1.0.5)\n",
      "Requirement already satisfied: murmurhash<1.1.0,>=0.28.0 in c:\\users\\alexa\\documents\\rag\\rag\\lib\\site-packages (from spacy) (1.0.10)\n",
      "Requirement already satisfied: cymem<2.1.0,>=2.0.2 in c:\\users\\alexa\\documents\\rag\\rag\\lib\\site-packages (from spacy) (2.0.8)\n",
      "Requirement already satisfied: preshed<3.1.0,>=3.0.2 in c:\\users\\alexa\\documents\\rag\\rag\\lib\\site-packages (from spacy) (3.0.9)\n",
      "Requirement already satisfied: thinc<8.3.0,>=8.1.8 in c:\\users\\alexa\\documents\\rag\\rag\\lib\\site-packages (from spacy) (8.2.1)\n",
      "Requirement already satisfied: wasabi<1.2.0,>=0.9.1 in c:\\users\\alexa\\documents\\rag\\rag\\lib\\site-packages (from spacy) (1.1.2)\n",
      "Requirement already satisfied: srsly<3.0.0,>=2.4.3 in c:\\users\\alexa\\documents\\rag\\rag\\lib\\site-packages (from spacy) (2.4.8)\n",
      "Requirement already satisfied: catalogue<2.1.0,>=2.0.6 in c:\\users\\alexa\\documents\\rag\\rag\\lib\\site-packages (from spacy) (2.0.10)\n",
      "Requirement already satisfied: weasel<0.4.0,>=0.1.0 in c:\\users\\alexa\\documents\\rag\\rag\\lib\\site-packages (from spacy) (0.3.4)\n",
      "Requirement already satisfied: typer<0.10.0,>=0.3.0 in c:\\users\\alexa\\documents\\rag\\rag\\lib\\site-packages (from spacy) (0.9.0)\n",
      "Requirement already satisfied: smart-open<7.0.0,>=5.2.1 in c:\\users\\alexa\\documents\\rag\\rag\\lib\\site-packages (from spacy) (6.4.0)\n",
      "Requirement already satisfied: tqdm<5.0.0,>=4.38.0 in c:\\users\\alexa\\documents\\rag\\rag\\lib\\site-packages (from spacy) (4.66.1)\n",
      "Requirement already satisfied: requests<3.0.0,>=2.13.0 in c:\\users\\alexa\\documents\\rag\\rag\\lib\\site-packages (from spacy) (2.31.0)\n",
      "Requirement already satisfied: pydantic!=1.8,!=1.8.1,<3.0.0,>=1.7.4 in c:\\users\\alexa\\documents\\rag\\rag\\lib\\site-packages (from spacy) (2.5.2)\n",
      "Requirement already satisfied: jinja2 in c:\\users\\alexa\\documents\\rag\\rag\\lib\\site-packages (from spacy) (3.1.2)\n",
      "Requirement already satisfied: setuptools in c:\\users\\alexa\\documents\\rag\\rag\\lib\\site-packages (from spacy) (69.0.2)\n",
      "Requirement already satisfied: packaging>=20.0 in c:\\users\\alexa\\documents\\rag\\rag\\lib\\site-packages (from spacy) (23.2)\n",
      "Requirement already satisfied: langcodes<4.0.0,>=3.2.0 in c:\\users\\alexa\\documents\\rag\\rag\\lib\\site-packages (from spacy) (3.3.0)\n",
      "Requirement already satisfied: numpy>=1.19.0 in c:\\users\\alexa\\documents\\rag\\rag\\lib\\site-packages (from spacy) (1.26.2)\n",
      "Requirement already satisfied: annotated-types>=0.4.0 in c:\\users\\alexa\\documents\\rag\\rag\\lib\\site-packages (from pydantic!=1.8,!=1.8.1,<3.0.0,>=1.7.4->spacy) (0.6.0)\n",
      "Requirement already satisfied: pydantic-core==2.14.5 in c:\\users\\alexa\\documents\\rag\\rag\\lib\\site-packages (from pydantic!=1.8,!=1.8.1,<3.0.0,>=1.7.4->spacy) (2.14.5)\n",
      "Requirement already satisfied: typing-extensions>=4.6.1 in c:\\users\\alexa\\documents\\rag\\rag\\lib\\site-packages (from pydantic!=1.8,!=1.8.1,<3.0.0,>=1.7.4->spacy) (4.9.0)\n",
      "Requirement already satisfied: charset-normalizer<4,>=2 in c:\\users\\alexa\\documents\\rag\\rag\\lib\\site-packages (from requests<3.0.0,>=2.13.0->spacy) (3.3.2)\n",
      "Requirement already satisfied: idna<4,>=2.5 in c:\\users\\alexa\\documents\\rag\\rag\\lib\\site-packages (from requests<3.0.0,>=2.13.0->spacy) (3.6)\n",
      "Requirement already satisfied: urllib3<3,>=1.21.1 in c:\\users\\alexa\\documents\\rag\\rag\\lib\\site-packages (from requests<3.0.0,>=2.13.0->spacy) (2.1.0)\n",
      "Requirement already satisfied: certifi>=2017.4.17 in c:\\users\\alexa\\documents\\rag\\rag\\lib\\site-packages (from requests<3.0.0,>=2.13.0->spacy) (2023.11.17)\n",
      "Requirement already satisfied: blis<0.8.0,>=0.7.8 in c:\\users\\alexa\\documents\\rag\\rag\\lib\\site-packages (from thinc<8.3.0,>=8.1.8->spacy) (0.7.11)\n",
      "Requirement already satisfied: confection<1.0.0,>=0.0.1 in c:\\users\\alexa\\documents\\rag\\rag\\lib\\site-packages (from thinc<8.3.0,>=8.1.8->spacy) (0.1.4)\n",
      "Requirement already satisfied: colorama in c:\\users\\alexa\\documents\\rag\\rag\\lib\\site-packages (from tqdm<5.0.0,>=4.38.0->spacy) (0.4.6)\n",
      "Requirement already satisfied: click<9.0.0,>=7.1.1 in c:\\users\\alexa\\documents\\rag\\rag\\lib\\site-packages (from typer<0.10.0,>=0.3.0->spacy) (8.1.7)\n",
      "Requirement already satisfied: cloudpathlib<0.17.0,>=0.7.0 in c:\\users\\alexa\\documents\\rag\\rag\\lib\\site-packages (from weasel<0.4.0,>=0.1.0->spacy) (0.16.0)\n",
      "Requirement already satisfied: MarkupSafe>=2.0 in c:\\users\\alexa\\documents\\rag\\rag\\lib\\site-packages (from jinja2->spacy) (2.1.3)\n",
      "Note: you may need to restart the kernel to use updated packages.\n"
     ]
    },
    {
     "name": "stderr",
     "output_type": "stream",
     "text": [
      "UsageError: Line magic function `%python` not found (But cell magic `%%python` exists, did you mean that instead?).\n"
     ]
    }
   ],
   "source": [
    "%pip install tikzplotlib\n",
    "%pip install matplotlib\n",
    "%pip install nltk\n",
    "%pip install spacy\n",
    "%python -m spacy download en_core_web_sm\n"
   ]
  },
  {
   "cell_type": "code",
   "execution_count": 5,
   "metadata": {},
   "outputs": [
    {
     "ename": "ImportError",
     "evalue": "cannot import name 'common_texification' from 'matplotlib.backends.backend_pgf' (c:\\Users\\alexa\\Documents\\RAG\\rag\\Lib\\site-packages\\matplotlib\\backends\\backend_pgf.py)",
     "output_type": "error",
     "traceback": [
      "\u001b[1;31m---------------------------------------------------------------------------\u001b[0m",
      "\u001b[1;31mImportError\u001b[0m                               Traceback (most recent call last)",
      "\u001b[1;32mc:\\Users\\alexa\\Documents\\RAG\\analyze.ipynb Cell 3\u001b[0m line \u001b[0;36m8\n\u001b[0;32m      <a href='vscode-notebook-cell:/c%3A/Users/alexa/Documents/RAG/analyze.ipynb#X12sZmlsZQ%3D%3D?line=5'>6</a>\u001b[0m \u001b[39mimport\u001b[39;00m \u001b[39mjson\u001b[39;00m\n\u001b[0;32m      <a href='vscode-notebook-cell:/c%3A/Users/alexa/Documents/RAG/analyze.ipynb#X12sZmlsZQ%3D%3D?line=6'>7</a>\u001b[0m \u001b[39mfrom\u001b[39;00m \u001b[39mos\u001b[39;00m\u001b[39m.\u001b[39;00m\u001b[39mpath\u001b[39;00m \u001b[39mimport\u001b[39;00m join\n\u001b[1;32m----> <a href='vscode-notebook-cell:/c%3A/Users/alexa/Documents/RAG/analyze.ipynb#X12sZmlsZQ%3D%3D?line=7'>8</a>\u001b[0m \u001b[39mimport\u001b[39;00m \u001b[39mtikzplotlib\u001b[39;00m\n\u001b[0;32m     <a href='vscode-notebook-cell:/c%3A/Users/alexa/Documents/RAG/analyze.ipynb#X12sZmlsZQ%3D%3D?line=9'>10</a>\u001b[0m nlp \u001b[39m=\u001b[39m spacy\u001b[39m.\u001b[39mload(\u001b[39m\"\u001b[39m\u001b[39men_core_web_sm\u001b[39m\u001b[39m\"\u001b[39m)\n\u001b[0;32m     <a href='vscode-notebook-cell:/c%3A/Users/alexa/Documents/RAG/analyze.ipynb#X12sZmlsZQ%3D%3D?line=10'>11</a>\u001b[0m nltk\u001b[39m.\u001b[39mdownload(\u001b[39m\"\u001b[39m\u001b[39mpunkt\u001b[39m\u001b[39m\"\u001b[39m)\n",
      "File \u001b[1;32mc:\\Users\\alexa\\Documents\\RAG\\rag\\Lib\\site-packages\\tikzplotlib\\__init__.py:5\u001b[0m\n\u001b[0;32m      3\u001b[0m \u001b[39mfrom\u001b[39;00m \u001b[39m.\u001b[39;00m\u001b[39m__about__\u001b[39;00m \u001b[39mimport\u001b[39;00m __version__\n\u001b[0;32m      4\u001b[0m \u001b[39mfrom\u001b[39;00m \u001b[39m.\u001b[39;00m\u001b[39m_cleanfigure\u001b[39;00m \u001b[39mimport\u001b[39;00m clean_figure\n\u001b[1;32m----> 5\u001b[0m \u001b[39mfrom\u001b[39;00m \u001b[39m.\u001b[39;00m\u001b[39m_save\u001b[39;00m \u001b[39mimport\u001b[39;00m Flavors, get_tikz_code, save\n\u001b[0;32m      7\u001b[0m __all__ \u001b[39m=\u001b[39m [\n\u001b[0;32m      8\u001b[0m     \u001b[39m\"\u001b[39m\u001b[39m__version__\u001b[39m\u001b[39m\"\u001b[39m,\n\u001b[0;32m      9\u001b[0m     \u001b[39m\"\u001b[39m\u001b[39mget_tikz_code\u001b[39m\u001b[39m\"\u001b[39m,\n\u001b[1;32m   (...)\u001b[0m\n\u001b[0;32m     12\u001b[0m     \u001b[39m\"\u001b[39m\u001b[39mFlavors\u001b[39m\u001b[39m\"\u001b[39m,\n\u001b[0;32m     13\u001b[0m ]\n",
      "File \u001b[1;32mc:\\Users\\alexa\\Documents\\RAG\\rag\\Lib\\site-packages\\tikzplotlib\\_save.py:11\u001b[0m\n\u001b[0;32m      8\u001b[0m \u001b[39mimport\u001b[39;00m \u001b[39mmatplotlib\u001b[39;00m \u001b[39mas\u001b[39;00m \u001b[39mmpl\u001b[39;00m\n\u001b[0;32m      9\u001b[0m \u001b[39mimport\u001b[39;00m \u001b[39mmatplotlib\u001b[39;00m\u001b[39m.\u001b[39;00m\u001b[39mpyplot\u001b[39;00m \u001b[39mas\u001b[39;00m \u001b[39mplt\u001b[39;00m\n\u001b[1;32m---> 11\u001b[0m \u001b[39mfrom\u001b[39;00m \u001b[39m.\u001b[39;00m \u001b[39mimport\u001b[39;00m _axes\n\u001b[0;32m     12\u001b[0m \u001b[39mfrom\u001b[39;00m \u001b[39m.\u001b[39;00m \u001b[39mimport\u001b[39;00m _image \u001b[39mas\u001b[39;00m img\n\u001b[0;32m     13\u001b[0m \u001b[39mfrom\u001b[39;00m \u001b[39m.\u001b[39;00m \u001b[39mimport\u001b[39;00m _legend, _line2d, _patch, _path\n",
      "File \u001b[1;32mc:\\Users\\alexa\\Documents\\RAG\\rag\\Lib\\site-packages\\tikzplotlib\\_axes.py:3\u001b[0m\n\u001b[0;32m      1\u001b[0m \u001b[39mimport\u001b[39;00m \u001b[39mmatplotlib\u001b[39;00m \u001b[39mas\u001b[39;00m \u001b[39mmpl\u001b[39;00m\n\u001b[0;32m      2\u001b[0m \u001b[39mimport\u001b[39;00m \u001b[39mnumpy\u001b[39;00m \u001b[39mas\u001b[39;00m \u001b[39mnp\u001b[39;00m\n\u001b[1;32m----> 3\u001b[0m \u001b[39mfrom\u001b[39;00m \u001b[39mmatplotlib\u001b[39;00m\u001b[39m.\u001b[39;00m\u001b[39mbackends\u001b[39;00m\u001b[39m.\u001b[39;00m\u001b[39mbackend_pgf\u001b[39;00m \u001b[39mimport\u001b[39;00m (\n\u001b[0;32m      4\u001b[0m     common_texification \u001b[39mas\u001b[39;00m mpl_common_texification,\n\u001b[0;32m      5\u001b[0m )\n\u001b[0;32m      7\u001b[0m \u001b[39mfrom\u001b[39;00m \u001b[39m.\u001b[39;00m \u001b[39mimport\u001b[39;00m _color\n\u001b[0;32m     10\u001b[0m \u001b[39mdef\u001b[39;00m \u001b[39m_common_texification\u001b[39m(string):\n\u001b[0;32m     11\u001b[0m     \u001b[39m# Work around <https://github.com/matplotlib/matplotlib/issues/15493>\u001b[39;00m\n",
      "\u001b[1;31mImportError\u001b[0m: cannot import name 'common_texification' from 'matplotlib.backends.backend_pgf' (c:\\Users\\alexa\\Documents\\RAG\\rag\\Lib\\site-packages\\matplotlib\\backends\\backend_pgf.py)"
     ]
    }
   ],
   "source": [
    "import spacy\n",
    "from nltk.tokenize import word_tokenize, sent_tokenize\n",
    "import nltk\n",
    "import matplotlib.pyplot as plt\n",
    "from collections import Counter\n",
    "import json\n",
    "from os.path import join\n",
    "import tikzplotlib\n",
    "\n",
    "nlp = spacy.load(\"en_core_web_sm\")\n",
    "nltk.download(\"punkt\")"
   ]
  },
  {
   "cell_type": "code",
   "execution_count": null,
   "metadata": {},
   "outputs": [],
   "source": [
    "import json\n",
    "from os.path import join\n",
    "\n",
    "data_path = join(\"data\", \"output.json\")\n",
    "\n",
    "with open(data_path, \"r\", encoding=\"utf-8\") as f:\n",
    "    data = json.load(f)\n",
    "\n",
    "for entry in data:\n",
    "    quotes_combined = ' '.join(entry.get('quote', []))\n",
    "    combined_text = quotes_combined + ' ' + entry.get('description', '')\n",
    "    entry['combined'] = combined_text.strip()\n",
    "\n",
    "combined = [e[\"combined\"] for e in data]\n",
    "texts = combined"
   ]
  },
  {
   "cell_type": "code",
   "execution_count": null,
   "metadata": {},
   "outputs": [
    {
     "name": "stderr",
     "output_type": "stream",
     "text": [
      "[nltk_data] Downloading package punkt to\n",
      "[nltk_data]     C:\\Users\\alexa\\AppData\\Roaming\\nltk_data...\n",
      "[nltk_data]   Package punkt is already up-to-date!\n"
     ]
    },
    {
     "ename": "NameError",
     "evalue": "name 'tikzplotlib' is not defined",
     "output_type": "error",
     "traceback": [
      "\u001b[1;31m---------------------------------------------------------------------------\u001b[0m",
      "\u001b[1;31mNameError\u001b[0m                                 Traceback (most recent call last)",
      "\u001b[1;32mc:\\Users\\alexa\\Documents\\RAG\\analyze.ipynb Cell 5\u001b[0m line \u001b[0;36m3\n\u001b[0;32m     <a href='vscode-notebook-cell:/c%3A/Users/alexa/Documents/RAG/analyze.ipynb#W2sZmlsZQ%3D%3D?line=35'>36</a>\u001b[0m plt\u001b[39m.\u001b[39mylabel(\u001b[39m'\u001b[39m\u001b[39mLength\u001b[39m\u001b[39m'\u001b[39m)\n\u001b[0;32m     <a href='vscode-notebook-cell:/c%3A/Users/alexa/Documents/RAG/analyze.ipynb#W2sZmlsZQ%3D%3D?line=36'>37</a>\u001b[0m plt\u001b[39m.\u001b[39mgrid(\u001b[39mTrue\u001b[39;00m)\n\u001b[1;32m---> <a href='vscode-notebook-cell:/c%3A/Users/alexa/Documents/RAG/analyze.ipynb#W2sZmlsZQ%3D%3D?line=37'>38</a>\u001b[0m tikzplotlib\u001b[39m.\u001b[39msave(join(\u001b[39m\"\u001b[39m\u001b[39mplots\u001b[39m\u001b[39m\"\u001b[39m,\u001b[39m\"\u001b[39m\u001b[39mtext_lengths.tikz\u001b[39m\u001b[39m\"\u001b[39m))\n\u001b[0;32m     <a href='vscode-notebook-cell:/c%3A/Users/alexa/Documents/RAG/analyze.ipynb#W2sZmlsZQ%3D%3D?line=39'>40</a>\u001b[0m \u001b[39m# Visualization 2: Average Sentence Lengths\u001b[39;00m\n\u001b[0;32m     <a href='vscode-notebook-cell:/c%3A/Users/alexa/Documents/RAG/analyze.ipynb#W2sZmlsZQ%3D%3D?line=40'>41</a>\u001b[0m avg_sentence_lengths \u001b[39m=\u001b[39m [\u001b[39msum\u001b[39m(lengths) \u001b[39m/\u001b[39m \u001b[39mlen\u001b[39m(lengths) \u001b[39mif\u001b[39;00m lengths \u001b[39melse\u001b[39;00m \u001b[39m0\u001b[39m \u001b[39mfor\u001b[39;00m lengths \u001b[39min\u001b[39;00m sentence_lengths]\n",
      "\u001b[1;31mNameError\u001b[0m: name 'tikzplotlib' is not defined"
     ]
    },
    {
     "data": {
      "image/png": "[encoded data removed]",
      "text/plain": [
       "<Figure size 1000x600 with 1 Axes>"
      ]
     },
     "metadata": {},
     "output_type": "display_data"
    }
   ],
   "source": [
    "nlp = spacy.load(\"en_core_web_sm\")\n",
    "\n",
    "nltk.download(\"punkt\")\n",
    "\n",
    "text_lengths = []\n",
    "sentence_lengths = []\n",
    "char_counts = []\n",
    "vocab_sizes = []\n",
    "entity_types = []\n",
    "\n",
    "for text in texts:\n",
    "    # Word tokenization and counting\n",
    "    words = word_tokenize(text)\n",
    "    text_lengths.append(len(words))\n",
    "\n",
    "    # Sentence tokenization and counting words in each sentence\n",
    "    sentences = sent_tokenize(text)\n",
    "    sentence_lengths.append([len(word_tokenize(sentence)) for sentence in sentences])\n",
    "\n",
    "    # Character count\n",
    "    char_counts.append(len(text))\n",
    "\n",
    "    # Vocabulary size (unique word count)\n",
    "    vocab_sizes.append(len(set(words)))\n",
    "\n",
    "    # Named Entity Recognition using spaCy\n",
    "    doc = nlp(text)\n",
    "    entity_types.extend([ent.label_ for ent in doc.ents])\n",
    "\n",
    "# Visualization 1: Text Lengths (in words)\n",
    "plt.figure(figsize=(10, 6))\n",
    "plt.subplot(2, 2, 1)\n",
    "plt.bar(range(len(text_lengths)), text_lengths)\n",
    "plt.title('Text Lengths (in words)')\n",
    "plt.xlabel('Text Index')\n",
    "plt.ylabel('Length')\n",
    "plt.grid(True)\n",
    "tikzplotlib.save(join(\"plots\",\"text_lengths.tikz\"))\n",
    "\n",
    "# Visualization 2: Average Sentence Lengths\n",
    "avg_sentence_lengths = [sum(lengths) / len(lengths) if lengths else 0 for lengths in sentence_lengths]\n",
    "plt.subplot(2, 2, 2)\n",
    "plt.bar(range(len(avg_sentence_lengths)), avg_sentence_lengths)\n",
    "plt.title('Average Sentence Lengths')\n",
    "plt.xlabel('Text Index')\n",
    "plt.ylabel('Average Length')\n",
    "plt.grid(True)\n",
    "tikzplotlib.save(join(\"plots\",\"seq_lengths.tikz\"))\n",
    "\n",
    "# Visualization 3: Character Counts\n",
    "plt.subplot(2, 2, 3)\n",
    "plt.bar(range(len(char_counts)), char_counts)\n",
    "plt.title('Character Counts')\n",
    "plt.xlabel('Text Index')\n",
    "plt.ylabel('Word Count')\n",
    "plt.grid(True)\n",
    "tikzplotlib.save(join(\"plots\",\"char_counts.tikz\"))\n",
    "\n",
    "# Visualization 4: Vocabulary Sizes\n",
    "plt.subplot(2, 2, 4)\n",
    "plt.bar(range(len(vocab_sizes)), vocab_sizes)\n",
    "plt.title('Vocabulary Sizes')\n",
    "plt.xlabel('Text Index')\n",
    "plt.ylabel('Size')\n",
    "plt.grid(True)\n",
    "tikzplotlib.save(join(\"plots\",\"vocab_sizes.tikz\"))\n",
    "\n",
    "plt.tight_layout()\n",
    "plt.show()\n",
    "\n",
    "entity_counts = Counter(entity_types)\n",
    "\n",
    "sorted_entity_counts = {k: v for k, v in sorted(entity_counts.items(), key=lambda item: item[1], reverse=True)}\n",
    "labels, values = zip(*sorted_entity_counts.items())\n",
    "\n",
    "plt.figure(figsize=(10, 6))\n",
    "plt.bar(labels, values, color='blue')\n",
    "plt.title('Named Entity Type Distribution')\n",
    "plt.xlabel('Entity Type')\n",
    "plt.ylabel('Frequency')\n",
    "plt.xticks(rotation=45)\n",
    "tikzplotlib.save(join(\"plots\",\"entity_freq.tikz\"))\n",
    "\n",
    "plt.show()"
   ]
  },
  {
   "cell_type": "code",
   "execution_count": null,
   "metadata": {},
   "outputs": [
    {
     "name": "stdout",
     "output_type": "stream",
     "text": [
      "Counter({'PERSON': 507, 'DATE': 450, 'GPE': 369, 'ORG': 337, 'CARDINAL': 137, 'NORP': 122, 'WORK_OF_ART': 92, 'ORDINAL': 72, 'FAC': 30, 'LOC': 30, 'EVENT': 24, 'LANGUAGE': 20, 'PRODUCT': 13, 'TIME': 10, 'QUANTITY': 5, 'LAW': 4, 'MONEY': 2})\n"
     ]
    }
   ],
   "source": [
    "print(sorted_entity_counts)"
   ]
  }
 ],
 "metadata": {
  "kernelspec": {
   "display_name": "rag",
   "language": "python",
   "name": "python3"
  },
  "language_info": {
   "codemirror_mode": {
    "name": "ipython",
    "version": 3
   },
   "file_extension": ".py",
   "mimetype": "text/x-python",
   "name": "python",
   "nbconvert_exporter": "python",
   "pygments_lexer": "ipython3",
   "version": "3.11.5"
  }
 },
 "nbformat": 4,
 "nbformat_minor": 2
}
