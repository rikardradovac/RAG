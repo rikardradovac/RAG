{
  "cells": [
    {
      "cell_type": "code",
      "execution_count": null,
      "metadata": {
        "id": "6pwKhmXbrPYv"
      },
      "outputs": [],
      "source": [
        "!pip install -r requirements.txt"
      ]
    },
    {
      "cell_type": "markdown",
      "metadata": {
        "id": "3DOB07I6PuX5"
      },
      "source": [
        "# upload embeddings to Pinecone"
      ]
    },
    {
      "cell_type": "code",
      "execution_count": null,
      "metadata": {
        "colab": {
          "base_uri": "https://localhost:8080/"
        },
        "id": "pLrTt4nVun0M",
        "outputId": "f2d21979-cb13-464a-b584-f0c0a564c2d5"
      },
      "outputs": [],
      "source": [
        "from rag import PineconeEmbedder\n",
        "\n",
        "index_name = \"rag\"\n",
        "pinecone = PineconeEmbedder(index_name=index_name)"
      ]
    },
    {
      "cell_type": "code",
      "execution_count": null,
      "metadata": {
        "id": "USjEHZPwvWQU"
      },
      "outputs": [],
      "source": [
        "models = [\"paraphrase-distilroberta-base-v1\", \"intfloat/e5-base\"]\n",
        "models = [\"intfloat/e5-base\"]\n",
        "\n",
        "# create the chunks of the dataset\n",
        "chunks = pinecone.chunk_document(\"data/output.json\", chunk_size=300, chunk_overlap=20)"
      ]
    },
    {
      "cell_type": "code",
      "execution_count": null,
      "metadata": {
        "id": "lokrB9mFyj1u"
      },
      "outputs": [],
      "source": [
        "for model_path in models:\n",
        "    # upload the chunks to the index with different namespace for each model\n",
        "    pinecone.load_model(model_path=model_path, device=\"cuda\")\n",
        "    pinecone.upsert_parallel(chunks, namespace=model_path)"
      ]
    },
    {
      "cell_type": "code",
      "execution_count": null,
      "metadata": {
        "id": "BsxsaTyiy8yZ"
      },
      "outputs": [],
      "source": [
        "import gc\n",
        "import torch\n",
        "\n",
        "# delete the model from the GPU\n",
        "del pinecone.model\n",
        "gc.collect()\n",
        "torch.cuda.empty_cache()"
      ]
    },
    {
      "cell_type": "markdown",
      "metadata": {
        "id": "U4X21xIpP2Jt"
      },
      "source": [
        "# Run evaluation"
      ]
    },
    {
      "cell_type": "code",
      "execution_count": null,
      "metadata": {
        "colab": {
          "base_uri": "https://localhost:8080/"
        },
        "id": "Te8ywH5yz3ia",
        "outputId": "2e6ac16b-efa5-4a2a-8694-7b5004292efd"
      },
      "outputs": [],
      "source": [
        "!python3 -m rag.eval"
      ]
    }
  ],
  "metadata": {
    "accelerator": "GPU",
    "colab": {
      "gpuType": "T4",
      "provenance": []
    },
    "kernelspec": {
      "display_name": "Python 3",
      "name": "python3"
    },
    "language_info": {
      "name": "python"
    }
  },
  "nbformat": 4,
  "nbformat_minor": 0
}
